{
 "cells": [
  {
   "cell_type": "code",
   "execution_count": 22,
   "metadata": {
    "collapsed": false
   },
   "outputs": [
    {
     "name": "stdout",
     "output_type": "stream",
     "text": [
      "    type             name         tbl_name  rootpage  \\\n",
      "0  table  sqlite_sequence  sqlite_sequence         3   \n",
      "1  table            facts            facts        47   \n",
      "\n",
      "                                                 sql  \n",
      "0             CREATE TABLE sqlite_sequence(name,seq)  \n",
      "1  CREATE TABLE \"facts\" (\"id\" INTEGER PRIMARY KEY...  \n",
      "[(1, 'af', 'Afghanistan', 652230, 652230, 0, 32564342, 2.32, 38.57, 13.89, 1.51), (2, 'al', 'Albania', 28748, 27398, 1350, 3029278, 0.3, 12.92, 6.58, 3.3), (3, 'ag', 'Algeria', 2381741, 2381741, 0, 39542166, 1.84, 23.67, 4.31, 0.92), (4, 'an', 'Andorra', 468, 468, 0, 85580, 0.12, 8.13, 6.96, 0.0), (5, 'ao', 'Angola', 1246700, 1246700, 0, 19625353, 2.78, 38.78, 11.49, 0.46)]\n"
     ]
    }
   ],
   "source": [
    "import sqlite3\n",
    "import pandas as pd\n",
    "import matplotlib.pyplot as plt\n",
    "import seaborn as sns\n",
    "%matplotlib inline\n",
    "\n",
    "#connect to the database and return info on the tables\n",
    "conn = sqlite3.connect('factbook.db')\n",
    "query = \"SELECT * FROM sqlite_master WHERE type='table';\"\n",
    "tables = pd.read_sql_query(query, conn)\n",
    "print(tables)\n",
    "\n",
    "#Print first 5 rows of the table facts stored in the database\n",
    "cursor = conn.cursor()\n",
    "cursor.execute(\"SELECT * FROM facts\")\n",
    "facts_table = cursor.fetchmany(5)\n",
    "print(facts_table)\n",
    "\n"
   ]
  },
  {
   "cell_type": "code",
   "execution_count": 23,
   "metadata": {
    "collapsed": false
   },
   "outputs": [
    {
     "name": "stdout",
     "output_type": "stream",
     "text": [
      "[(0, 7256490011, 4.02, 0.0)]\n"
     ]
    }
   ],
   "source": [
    "q = 'SELECT MIN(population), MAX(population), MAX(population_growth), MIN(population_growth) FROM facts;'\n",
    "cursor.execute(q)\n",
    "max_min_pop = cursor.fetchall()\n",
    "print(max_min_pop)"
   ]
  },
  {
   "cell_type": "code",
   "execution_count": 24,
   "metadata": {
    "collapsed": false
   },
   "outputs": [
    {
     "name": "stdout",
     "output_type": "stream",
     "text": [
      "[(250, 'ay', 'Antarctica', None, 280000, None, 0, None, None, None, None)]\n"
     ]
    }
   ],
   "source": [
    "q = 'SELECT * FROM facts WHERE population = 0;'\n",
    "cursor.execute(q)\n",
    "zero_pop = cursor.fetchall()\n",
    "print(zero_pop)"
   ]
  },
  {
   "cell_type": "code",
   "execution_count": 25,
   "metadata": {
    "collapsed": false
   },
   "outputs": [
    {
     "name": "stdout",
     "output_type": "stream",
     "text": [
      "[(261, 'xx', 'World', None, None, None, 7256490011, 1.08, 18.6, 7.8, None)]\n"
     ]
    }
   ],
   "source": [
    "q = 'SELECT * FROM facts WHERE population = (SELECt Max(population) FROM facts);'\n",
    "cursor.execute(q)\n",
    "max_pop = cursor.fetchall()\n",
    "print(max_pop)"
   ]
  },
  {
   "cell_type": "markdown",
   "metadata": {},
   "source": [
    "The minimum population represents Antarctica and the maximum population represents the world."
   ]
  },
  {
   "cell_type": "code",
   "execution_count": 26,
   "metadata": {
    "collapsed": false
   },
   "outputs": [
    {
     "name": "stdout",
     "output_type": "stream",
     "text": [
      "(241, 11)\n"
     ]
    },
    {
     "data": {
      "image/png": "[encoded data removed]",
      "text/plain": [
       "<matplotlib.figure.Figure at 0x7f9cdcce3c88>"
      ]
     },
     "metadata": {},
     "output_type": "display_data"
    }
   ],
   "source": [
    "q = '''SELECT * FROM facts \n",
    "    WHERE population != (SELECT Min(population) FROM facts) \n",
    "    AND (SELECT Max(population) FROM facts);'''\n",
    "#using cursor execute and fetch method, returns a list of tuples\n",
    "#cursor.execute(q)\n",
    "#table_facts = cursor.fetchall()\n",
    "#print(table_facts[:10])\n",
    "#print(len(table_facts))\n",
    "\n",
    "#using read_sql_query method, returns a dataframe, easier for further analysis\n",
    "table_facts = pd.read_sql_query(q,conn)\n",
    "print(table_facts.shape)\n",
    "\n",
    "#one way of plotting histogram subplots\n",
    "fig, ax = plt.subplots(2,2,figsize=(10,10))\n",
    "ax =ax.flatten() #flattens axis from 2D to 1D\n",
    "\n",
    "columns = ['population','population_growth','birth_rate','death_rate']\n",
    "colors=['r','g','b','y']\n",
    "for i in range(0,4):\n",
    "    ax[i].hist(table_facts[columns[i]].dropna(), bins=30,alpha=0.9,color=colors[i])\n",
    "    ax[i].set_title(columns[i])\n",
    "    ax[i].grid\n",
    "plt.show()"
   ]
  },
  {
   "cell_type": "code",
   "execution_count": 29,
   "metadata": {
    "collapsed": false
   },
   "outputs": [
    {
     "name": "stderr",
     "output_type": "stream",
     "text": [
      "/dataquest/system/env/python3/lib/python3.4/site-packages/IPython/core/interactiveshell.py:2885: UserWarning: To output multiple subplots, the figure containing the passed axes is being cleared\n",
      "  exec(code_obj, self.user_global_ns, self.user_ns)\n"
     ]
    },
    {
     "data": {
      "image/png": "[encoded data removed]",
      "text/plain": [
       "<matplotlib.figure.Figure at 0x7f9cdc7fcd30>"
      ]
     },
     "metadata": {},
     "output_type": "display_data"
    }
   ],
   "source": [
    "#another way of plotting subplots. Define how many in add_subplot and plot the required columns together\n",
    "figure=plt.figure(figsize=(10,10))\n",
    "axes = figure.add_subplot(111) #rows=1, columns=1 and start axis=1\n",
    "\n",
    "table_facts = pd.read_sql_query(q6, conn)\n",
    "table_facts[columns].hist(ax=axes,bins=20) #notice how the plots are drawn in alphabetical order\n",
    "plt.show()"
   ]
  },
  {
   "cell_type": "code",
   "execution_count": 33,
   "metadata": {
    "collapsed": false
   },
   "outputs": [
    {
     "data": {
      "text/html": [
       "<div>\n",
       "<style scoped>\n",
       "    .dataframe tbody tr th:only-of-type {\n",
       "        vertical-align: middle;\n",
       "    }\n",
       "\n",
       "    .dataframe tbody tr th {\n",
       "        vertical-align: top;\n",
       "    }\n",
       "\n",
       "    .dataframe thead th {\n",
       "        text-align: right;\n",
       "    }\n",
       "</style>\n",
       "<table border=\"1\" class=\"dataframe\">\n",
       "  <thead>\n",
       "    <tr style=\"text-align: right;\">\n",
       "      <th></th>\n",
       "      <th>country</th>\n",
       "      <th>population_density</th>\n",
       "    </tr>\n",
       "  </thead>\n",
       "  <tbody>\n",
       "    <tr>\n",
       "      <th>0</th>\n",
       "      <td>Macau</td>\n",
       "      <td>21168.964286</td>\n",
       "    </tr>\n",
       "    <tr>\n",
       "      <th>1</th>\n",
       "      <td>Monaco</td>\n",
       "      <td>15267.500000</td>\n",
       "    </tr>\n",
       "    <tr>\n",
       "      <th>2</th>\n",
       "      <td>Singapore</td>\n",
       "      <td>8259.784571</td>\n",
       "    </tr>\n",
       "    <tr>\n",
       "      <th>3</th>\n",
       "      <td>Hong Kong</td>\n",
       "      <td>6655.271202</td>\n",
       "    </tr>\n",
       "    <tr>\n",
       "      <th>4</th>\n",
       "      <td>Gaza Strip</td>\n",
       "      <td>5191.819444</td>\n",
       "    </tr>\n",
       "    <tr>\n",
       "      <th>5</th>\n",
       "      <td>Gibraltar</td>\n",
       "      <td>4876.333333</td>\n",
       "    </tr>\n",
       "    <tr>\n",
       "      <th>6</th>\n",
       "      <td>Bahrain</td>\n",
       "      <td>1771.859211</td>\n",
       "    </tr>\n",
       "    <tr>\n",
       "      <th>7</th>\n",
       "      <td>Maldives</td>\n",
       "      <td>1319.640940</td>\n",
       "    </tr>\n",
       "    <tr>\n",
       "      <th>8</th>\n",
       "      <td>Malta</td>\n",
       "      <td>1310.015823</td>\n",
       "    </tr>\n",
       "    <tr>\n",
       "      <th>9</th>\n",
       "      <td>Bermuda</td>\n",
       "      <td>1299.925926</td>\n",
       "    </tr>\n",
       "    <tr>\n",
       "      <th>10</th>\n",
       "      <td>Bangladesh</td>\n",
       "      <td>1297.977606</td>\n",
       "    </tr>\n",
       "    <tr>\n",
       "      <th>11</th>\n",
       "      <td>Sint Maarten</td>\n",
       "      <td>1167.323529</td>\n",
       "    </tr>\n",
       "    <tr>\n",
       "      <th>12</th>\n",
       "      <td>Guernsey</td>\n",
       "      <td>847.179487</td>\n",
       "    </tr>\n",
       "    <tr>\n",
       "      <th>13</th>\n",
       "      <td>Jersey</td>\n",
       "      <td>838.741379</td>\n",
       "    </tr>\n",
       "    <tr>\n",
       "      <th>14</th>\n",
       "      <td>Taiwan</td>\n",
       "      <td>725.825356</td>\n",
       "    </tr>\n",
       "    <tr>\n",
       "      <th>15</th>\n",
       "      <td>Barbados</td>\n",
       "      <td>675.823256</td>\n",
       "    </tr>\n",
       "    <tr>\n",
       "      <th>16</th>\n",
       "      <td>Mauritius</td>\n",
       "      <td>660.013300</td>\n",
       "    </tr>\n",
       "    <tr>\n",
       "      <th>17</th>\n",
       "      <td>Aruba</td>\n",
       "      <td>623.122222</td>\n",
       "    </tr>\n",
       "    <tr>\n",
       "      <th>18</th>\n",
       "      <td>Lebanon</td>\n",
       "      <td>604.565103</td>\n",
       "    </tr>\n",
       "    <tr>\n",
       "      <th>19</th>\n",
       "      <td>Saint Martin</td>\n",
       "      <td>588.037037</td>\n",
       "    </tr>\n",
       "    <tr>\n",
       "      <th>20</th>\n",
       "      <td>San Marino</td>\n",
       "      <td>541.311475</td>\n",
       "    </tr>\n",
       "    <tr>\n",
       "      <th>21</th>\n",
       "      <td>Rwanda</td>\n",
       "      <td>513.285755</td>\n",
       "    </tr>\n",
       "    <tr>\n",
       "      <th>22</th>\n",
       "      <td>Korea, South</td>\n",
       "      <td>506.760173</td>\n",
       "    </tr>\n",
       "    <tr>\n",
       "      <th>23</th>\n",
       "      <td>Netherlands</td>\n",
       "      <td>500.041424</td>\n",
       "    </tr>\n",
       "    <tr>\n",
       "      <th>24</th>\n",
       "      <td>West Bank</td>\n",
       "      <td>493.859220</td>\n",
       "    </tr>\n",
       "    <tr>\n",
       "      <th>25</th>\n",
       "      <td>Nauru</td>\n",
       "      <td>454.285714</td>\n",
       "    </tr>\n",
       "    <tr>\n",
       "      <th>26</th>\n",
       "      <td>India</td>\n",
       "      <td>420.993721</td>\n",
       "    </tr>\n",
       "    <tr>\n",
       "      <th>27</th>\n",
       "      <td>Burundi</td>\n",
       "      <td>418.312928</td>\n",
       "    </tr>\n",
       "    <tr>\n",
       "      <th>28</th>\n",
       "      <td>Tuvalu</td>\n",
       "      <td>418.038462</td>\n",
       "    </tr>\n",
       "    <tr>\n",
       "      <th>29</th>\n",
       "      <td>Puerto Rico</td>\n",
       "      <td>405.677227</td>\n",
       "    </tr>\n",
       "    <tr>\n",
       "      <th>...</th>\n",
       "      <td>...</td>\n",
       "      <td>...</td>\n",
       "    </tr>\n",
       "    <tr>\n",
       "      <th>231</th>\n",
       "      <td>Greenland</td>\n",
       "      <td>0.026653</td>\n",
       "    </tr>\n",
       "    <tr>\n",
       "      <th>232</th>\n",
       "      <td>Antarctica</td>\n",
       "      <td>0.000000</td>\n",
       "    </tr>\n",
       "    <tr>\n",
       "      <th>233</th>\n",
       "      <td>Ethiopia</td>\n",
       "      <td>NaN</td>\n",
       "    </tr>\n",
       "    <tr>\n",
       "      <th>234</th>\n",
       "      <td>South Sudan</td>\n",
       "      <td>NaN</td>\n",
       "    </tr>\n",
       "    <tr>\n",
       "      <th>235</th>\n",
       "      <td>Sudan</td>\n",
       "      <td>NaN</td>\n",
       "    </tr>\n",
       "    <tr>\n",
       "      <th>236</th>\n",
       "      <td>Holy See (Vatican City)</td>\n",
       "      <td>NaN</td>\n",
       "    </tr>\n",
       "    <tr>\n",
       "      <th>237</th>\n",
       "      <td>European Union</td>\n",
       "      <td>NaN</td>\n",
       "    </tr>\n",
       "    <tr>\n",
       "      <th>238</th>\n",
       "      <td>Ashmore and Cartier Islands</td>\n",
       "      <td>NaN</td>\n",
       "    </tr>\n",
       "    <tr>\n",
       "      <th>239</th>\n",
       "      <td>Coral Sea Islands</td>\n",
       "      <td>NaN</td>\n",
       "    </tr>\n",
       "    <tr>\n",
       "      <th>240</th>\n",
       "      <td>Heard Island and McDonald Islands</td>\n",
       "      <td>NaN</td>\n",
       "    </tr>\n",
       "    <tr>\n",
       "      <th>241</th>\n",
       "      <td>Clipperton Island</td>\n",
       "      <td>NaN</td>\n",
       "    </tr>\n",
       "    <tr>\n",
       "      <th>242</th>\n",
       "      <td>French Southern and Antarctic Lands</td>\n",
       "      <td>NaN</td>\n",
       "    </tr>\n",
       "    <tr>\n",
       "      <th>243</th>\n",
       "      <td>Saint Barthelemy</td>\n",
       "      <td>NaN</td>\n",
       "    </tr>\n",
       "    <tr>\n",
       "      <th>244</th>\n",
       "      <td>Bouvet Island</td>\n",
       "      <td>NaN</td>\n",
       "    </tr>\n",
       "    <tr>\n",
       "      <th>245</th>\n",
       "      <td>Jan Mayen</td>\n",
       "      <td>NaN</td>\n",
       "    </tr>\n",
       "    <tr>\n",
       "      <th>246</th>\n",
       "      <td>Akrotiri</td>\n",
       "      <td>NaN</td>\n",
       "    </tr>\n",
       "    <tr>\n",
       "      <th>247</th>\n",
       "      <td>British Indian Ocean Territory</td>\n",
       "      <td>NaN</td>\n",
       "    </tr>\n",
       "    <tr>\n",
       "      <th>248</th>\n",
       "      <td>Dhekelia</td>\n",
       "      <td>NaN</td>\n",
       "    </tr>\n",
       "    <tr>\n",
       "      <th>249</th>\n",
       "      <td>South Georgia and South Sandwich Islands</td>\n",
       "      <td>NaN</td>\n",
       "    </tr>\n",
       "    <tr>\n",
       "      <th>250</th>\n",
       "      <td>Navassa Island</td>\n",
       "      <td>NaN</td>\n",
       "    </tr>\n",
       "    <tr>\n",
       "      <th>251</th>\n",
       "      <td>Wake Island</td>\n",
       "      <td>NaN</td>\n",
       "    </tr>\n",
       "    <tr>\n",
       "      <th>252</th>\n",
       "      <td>United States Pacific Island Wildlife Refuges</td>\n",
       "      <td>NaN</td>\n",
       "    </tr>\n",
       "    <tr>\n",
       "      <th>253</th>\n",
       "      <td>Paracel Islands</td>\n",
       "      <td>NaN</td>\n",
       "    </tr>\n",
       "    <tr>\n",
       "      <th>254</th>\n",
       "      <td>Spratly Islands</td>\n",
       "      <td>NaN</td>\n",
       "    </tr>\n",
       "    <tr>\n",
       "      <th>255</th>\n",
       "      <td>Arctic Ocean</td>\n",
       "      <td>NaN</td>\n",
       "    </tr>\n",
       "    <tr>\n",
       "      <th>256</th>\n",
       "      <td>Atlantic Ocean</td>\n",
       "      <td>NaN</td>\n",
       "    </tr>\n",
       "    <tr>\n",
       "      <th>257</th>\n",
       "      <td>Indian Ocean</td>\n",
       "      <td>NaN</td>\n",
       "    </tr>\n",
       "    <tr>\n",
       "      <th>258</th>\n",
       "      <td>Pacific Ocean</td>\n",
       "      <td>NaN</td>\n",
       "    </tr>\n",
       "    <tr>\n",
       "      <th>259</th>\n",
       "      <td>Southern Ocean</td>\n",
       "      <td>NaN</td>\n",
       "    </tr>\n",
       "    <tr>\n",
       "      <th>260</th>\n",
       "      <td>World</td>\n",
       "      <td>NaN</td>\n",
       "    </tr>\n",
       "  </tbody>\n",
       "</table>\n",
       "<p>261 rows × 2 columns</p>\n",
       "</div>"
      ],
      "text/plain": [
       "                                           country  population_density\n",
       "0                                            Macau        21168.964286\n",
       "1                                           Monaco        15267.500000\n",
       "2                                        Singapore         8259.784571\n",
       "3                                        Hong Kong         6655.271202\n",
       "4                                       Gaza Strip         5191.819444\n",
       "5                                        Gibraltar         4876.333333\n",
       "6                                          Bahrain         1771.859211\n",
       "7                                         Maldives         1319.640940\n",
       "8                                            Malta         1310.015823\n",
       "9                                          Bermuda         1299.925926\n",
       "10                                      Bangladesh         1297.977606\n",
       "11                                    Sint Maarten         1167.323529\n",
       "12                                        Guernsey          847.179487\n",
       "13                                          Jersey          838.741379\n",
       "14                                          Taiwan          725.825356\n",
       "15                                        Barbados          675.823256\n",
       "16                                       Mauritius          660.013300\n",
       "17                                           Aruba          623.122222\n",
       "18                                         Lebanon          604.565103\n",
       "19                                    Saint Martin          588.037037\n",
       "20                                      San Marino          541.311475\n",
       "21                                          Rwanda          513.285755\n",
       "22                                    Korea, South          506.760173\n",
       "23                                     Netherlands          500.041424\n",
       "24                                       West Bank          493.859220\n",
       "25                                           Nauru          454.285714\n",
       "26                                           India          420.993721\n",
       "27                                         Burundi          418.312928\n",
       "28                                          Tuvalu          418.038462\n",
       "29                                     Puerto Rico          405.677227\n",
       "..                                             ...                 ...\n",
       "231                                      Greenland            0.026653\n",
       "232                                     Antarctica            0.000000\n",
       "233                                       Ethiopia                 NaN\n",
       "234                                    South Sudan                 NaN\n",
       "235                                          Sudan                 NaN\n",
       "236                        Holy See (Vatican City)                 NaN\n",
       "237                                 European Union                 NaN\n",
       "238                    Ashmore and Cartier Islands                 NaN\n",
       "239                              Coral Sea Islands                 NaN\n",
       "240              Heard Island and McDonald Islands                 NaN\n",
       "241                              Clipperton Island                 NaN\n",
       "242            French Southern and Antarctic Lands                 NaN\n",
       "243                               Saint Barthelemy                 NaN\n",
       "244                                  Bouvet Island                 NaN\n",
       "245                                      Jan Mayen                 NaN\n",
       "246                                       Akrotiri                 NaN\n",
       "247                 British Indian Ocean Territory                 NaN\n",
       "248                                       Dhekelia                 NaN\n",
       "249       South Georgia and South Sandwich Islands                 NaN\n",
       "250                                 Navassa Island                 NaN\n",
       "251                                    Wake Island                 NaN\n",
       "252  United States Pacific Island Wildlife Refuges                 NaN\n",
       "253                                Paracel Islands                 NaN\n",
       "254                                Spratly Islands                 NaN\n",
       "255                                   Arctic Ocean                 NaN\n",
       "256                                 Atlantic Ocean                 NaN\n",
       "257                                   Indian Ocean                 NaN\n",
       "258                                  Pacific Ocean                 NaN\n",
       "259                                 Southern Ocean                 NaN\n",
       "260                                          World                 NaN\n",
       "\n",
       "[261 rows x 2 columns]"
      ]
     },
     "execution_count": 33,
     "metadata": {},
     "output_type": "execute_result"
    }
   ],
   "source": [
    "q_1 = '''SELECT name 'country', \n",
    "    (CAST(population AS float)/area_land) 'population_density' \n",
    "    FROM facts\n",
    "    ORDER BY population_density DESC '''\n",
    "pop_density = pd.read_sql_query(q_1,conn)\n",
    "pop_density"
   ]
  },
  {
   "cell_type": "code",
   "execution_count": 36,
   "metadata": {
    "collapsed": false
   },
   "outputs": [
    {
     "data": {
      "text/plain": [
       "array([[<matplotlib.axes._subplots.AxesSubplot object at 0x7f9cdc50d4a8>]],\n",
       "      dtype=object)"
      ]
     },
     "execution_count": 36,
     "metadata": {},
     "output_type": "execute_result"
    },
    {
     "data": {
      "image/png": "[encoded data removed]",
      "text/plain": [
       "<matplotlib.figure.Figure at 0x7f9cdcbee3c8>"
      ]
     },
     "metadata": {},
     "output_type": "display_data"
    }
   ],
   "source": [
    "pop_density.hist(bins=30)"
   ]
  },
  {
   "cell_type": "code",
   "execution_count": null,
   "metadata": {
    "collapsed": true
   },
   "outputs": [],
   "source": []
  }
 ],
 "metadata": {
  "kernelspec": {
   "display_name": "Python 3",
   "language": "python",
   "name": "python3"
  },
  "language_info": {
   "codemirror_mode": {
    "name": "ipython",
    "version": 3
   },
   "file_extension": ".py",
   "mimetype": "text/x-python",
   "name": "python",
   "nbconvert_exporter": "python",
   "pygments_lexer": "ipython3",
   "version": "3.4.3"
  }
 },
 "nbformat": 4,
 "nbformat_minor": 2
}
